{
 "cells": [
  {
   "cell_type": "markdown",
   "id": "a5ef4271",
   "metadata": {},
   "source": [
    "### Notebook to produce shapefiles of electric vehicle charging stations.\n",
    "* Data is fetched using the Department of Energy's National Renewable Energy Lab's programmatic API.\n",
    "* Data is fetched for station locations in Massachusetts, and saved in one shapefile.\n",
    "* Data is then clipped to the Boston Region MPO area, and saved in a second shapefile."
   ]
  },
  {
   "cell_type": "markdown",
   "id": "90a5b25c",
   "metadata": {},
   "source": [
    "#### Reference document\n",
    "[Data dictionary for data returned by API calls](https://afdc.energy.gov/data_download/alt_fuel_stations_format)"
   ]
  },
  {
   "cell_type": "code",
   "execution_count": null,
   "id": "fac2bdfc",
   "metadata": {},
   "outputs": [],
   "source": [
    "# Import required packages\n",
    "import pandas as pd\n",
    "import geopandas as gp"
   ]
  },
  {
   "cell_type": "markdown",
   "id": "5c03323c",
   "metadata": {},
   "source": [
    "#### User input required: specify name of output shapefiles"
   ]
  },
  {
   "cell_type": "code",
   "execution_count": null,
   "id": "69303dbd",
   "metadata": {},
   "outputs": [],
   "source": [
    "output_ma_shapefile_name = 'ev_charging_stations_ma_20221014.shp'\n",
    "output_brmpo_shapefile_name = 'ev_charging_stations_brmpo_20221014.shp'"
   ]
  },
  {
   "cell_type": "markdown",
   "id": "ecb24328",
   "metadata": {},
   "source": [
    "Note: The GeoJSON returned by the API call contains property names that exceed the 10-character limit\n",
    "on shapefile attribute names.  \n",
    "When the data is exported to shapefile format,\n",
    "__these attribute names are trunaced to 10 characters__."
   ]
  },
  {
   "cell_type": "code",
   "execution_count": null,
   "id": "2562abfb",
   "metadata": {},
   "outputs": [],
   "source": [
    "api_url = 'https://developer.nrel.gov/api/alt-fuel-stations/v1.geojson'"
   ]
  },
  {
   "cell_type": "code",
   "execution_count": null,
   "id": "66aedf11",
   "metadata": {},
   "outputs": [],
   "source": [
    "# Request URL parameters"
   ]
  },
  {
   "cell_type": "code",
   "execution_count": null,
   "id": "898d0128",
   "metadata": {},
   "outputs": [],
   "source": [
    "api_key = 'YOUR_API_KEY_GOES_HERE'"
   ]
  },
  {
   "cell_type": "code",
   "execution_count": null,
   "id": "6e558a95",
   "metadata": {},
   "outputs": [],
   "source": [
    "# Station is available\n",
    "status = 'E'"
   ]
  },
  {
   "cell_type": "code",
   "execution_count": null,
   "id": "18013413",
   "metadata": {},
   "outputs": [],
   "source": [
    "# Station is accessible to the public\n",
    "access = 'public'"
   ]
  },
  {
   "cell_type": "code",
   "execution_count": null,
   "id": "d80b230e",
   "metadata": {},
   "outputs": [],
   "source": [
    "# Station supplies electric 'fuel'.\n",
    "# Note: This field appears to be ignored. See below.\n",
    "fuel_type_code = 'ELEC'"
   ]
  },
  {
   "cell_type": "code",
   "execution_count": null,
   "id": "b49d7c47",
   "metadata": {},
   "outputs": [],
   "source": [
    "# Station is located in Massachusetts\n",
    "state = 'MA'"
   ]
  },
  {
   "cell_type": "code",
   "execution_count": null,
   "id": "e3917f77",
   "metadata": {},
   "outputs": [],
   "source": [
    "# Return all matching records\n",
    "limit =  'all'"
   ]
  },
  {
   "cell_type": "code",
   "execution_count": null,
   "id": "4ed7e1c3",
   "metadata": {},
   "outputs": [],
   "source": [
    "# Form request URL"
   ]
  },
  {
   "cell_type": "code",
   "execution_count": null,
   "id": "c7e29379",
   "metadata": {},
   "outputs": [],
   "source": [
    "request_url = api_url + '?'\n",
    "request_url += 'api_key=' + api_key + '&'\n",
    "request_url += 'status=' + status + '&'\n",
    "request_url += 'access=' + access + '&'\n",
    "request_url += 'fuel_type_code=' + fuel_type_code + '&'\n",
    "request_url += 'state=' + state + '&'\n",
    "request_url += 'limit=' + limit"
   ]
  },
  {
   "cell_type": "code",
   "execution_count": null,
   "id": "40a2073c",
   "metadata": {},
   "outputs": [],
   "source": [
    "gdf = gp.read_file(request_url)"
   ]
  },
  {
   "cell_type": "code",
   "execution_count": null,
   "id": "9a9733a1",
   "metadata": {},
   "outputs": [],
   "source": [
    "gdf.head()"
   ]
  },
  {
   "cell_type": "code",
   "execution_count": null,
   "id": "b2514d1f",
   "metadata": {},
   "outputs": [],
   "source": [
    "# The server logic backing the API appears to ignore the 'fuel_type_code' parameter.\n",
    "# We have to filter for electric charging stations manually.\n",
    "ev_stations_gdf = gdf[gdf['fuel_type_code'] == 'ELEC']"
   ]
  },
  {
   "cell_type": "code",
   "execution_count": null,
   "id": "1ea0c370",
   "metadata": {},
   "outputs": [],
   "source": [
    "len(ev_stations_gdf)"
   ]
  },
  {
   "cell_type": "code",
   "execution_count": null,
   "id": "1da310ca",
   "metadata": {},
   "outputs": [],
   "source": [
    "ev_stations_gdf.head()"
   ]
  },
  {
   "cell_type": "code",
   "execution_count": null,
   "id": "80014e15",
   "metadata": {},
   "outputs": [],
   "source": [
    "# Project the geo-dataframe to Massachusetts State Plane NAD83 Meters (EPSG:26986)"
   ]
  },
  {
   "cell_type": "code",
   "execution_count": null,
   "id": "d29440e2",
   "metadata": {},
   "outputs": [],
   "source": [
    "ev_stations_gdf_epsg26986 = ev_stations_gdf.to_crs(\"EPSG:26986\")"
   ]
  },
  {
   "cell_type": "code",
   "execution_count": null,
   "id": "7c0fa8fc",
   "metadata": {},
   "outputs": [],
   "source": [
    "# Sanity check: plot the points\n",
    "ev_stations_gdf_epsg26986.plot()"
   ]
  },
  {
   "cell_type": "code",
   "execution_count": null,
   "id": "ce985370",
   "metadata": {},
   "outputs": [],
   "source": []
  },
  {
   "cell_type": "code",
   "execution_count": null,
   "id": "2a2c08f8",
   "metadata": {},
   "outputs": [],
   "source": [
    "# Export the geo-dataframe for all locations in MA in shapefile format"
   ]
  },
  {
   "cell_type": "code",
   "execution_count": null,
   "id": "6b83d4c8",
   "metadata": {},
   "outputs": [],
   "source": [
    "ev_stations_gdf_epsg26986.to_file(output_ma_shapefile_name)"
   ]
  },
  {
   "cell_type": "code",
   "execution_count": null,
   "id": "80c758e1",
   "metadata": {},
   "outputs": [],
   "source": [
    "# Clip the dataframe for all locations in MA to the BRMPO area\n",
    "# First, get a gdf for the BRMPO area"
   ]
  },
  {
   "cell_type": "code",
   "execution_count": null,
   "id": "dc5c7f98",
   "metadata": {},
   "outputs": [],
   "source": [
    "ctps_wfs_url = 'https://ctps.org/maploc/wfs?service=wfs&'\n",
    "request2_url = ctps_wfs_url + 'request=getFeature&' \n",
    "request2_url += 'typename=postgis:ctps_brmpo_boundary_poly&'\n",
    "request2_url += 'outputFormat=json'"
   ]
  },
  {
   "cell_type": "code",
   "execution_count": null,
   "id": "a5a0a558",
   "metadata": {},
   "outputs": [],
   "source": [
    "# Note that this data is already in EPSG:26986\n",
    "brmpo_gdf = gp.read_file(request2_url)"
   ]
  },
  {
   "cell_type": "code",
   "execution_count": null,
   "id": "e8e428a4",
   "metadata": {},
   "outputs": [],
   "source": [
    "brmpo_ev_stations_gdf = gp.clip(ev_stations_gdf_epsg26986, brmpo_gdf, keep_geom_type=True)"
   ]
  },
  {
   "cell_type": "code",
   "execution_count": null,
   "id": "bb20e5e7",
   "metadata": {},
   "outputs": [],
   "source": [
    "len(brmpo_ev_stations_gdf)"
   ]
  },
  {
   "cell_type": "code",
   "execution_count": null,
   "id": "45f9f3b7",
   "metadata": {},
   "outputs": [],
   "source": [
    "brmpo_ev_stations_gdf.head()"
   ]
  },
  {
   "cell_type": "code",
   "execution_count": null,
   "id": "e1cf5a04",
   "metadata": {},
   "outputs": [],
   "source": [
    "# Sanity check: plot the points\n",
    "brmpo_ev_stations_gdf.plot()"
   ]
  },
  {
   "cell_type": "code",
   "execution_count": null,
   "id": "15e4e3a8",
   "metadata": {},
   "outputs": [],
   "source": [
    "brmpo_ev_stations_gdf.to_file(output_brmpo_shapefile_name)"
   ]
  },
  {
   "cell_type": "code",
   "execution_count": null,
   "id": "24d5f0f4",
   "metadata": {},
   "outputs": [],
   "source": []
  }
 ],
 "metadata": {
  "kernelspec": {
   "display_name": "Python 3 (ipykernel)",
   "language": "python",
   "name": "python3"
  },
  "language_info": {
   "codemirror_mode": {
    "name": "ipython",
    "version": 3
   },
   "file_extension": ".py",
   "mimetype": "text/x-python",
   "name": "python",
   "nbconvert_exporter": "python",
   "pygments_lexer": "ipython3",
   "version": "3.8.12"
  }
 },
 "nbformat": 4,
 "nbformat_minor": 5
}
